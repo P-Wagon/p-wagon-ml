{
 "cells": [
  {
   "cell_type": "markdown",
   "id": "31aa0a8d",
   "metadata": {},
   "source": [
    "## Importing Requirements"
   ]
  },
  {
   "cell_type": "code",
   "execution_count": 14,
   "id": "07811750",
   "metadata": {},
   "outputs": [],
   "source": [
    "import cv2"
   ]
  },
  {
   "cell_type": "markdown",
   "id": "75b56344",
   "metadata": {},
   "source": [
    "### Reading Local Files"
   ]
  },
  {
   "cell_type": "code",
   "execution_count": 15,
   "id": "93928359",
   "metadata": {},
   "outputs": [],
   "source": [
    "def detect_license_plate(image_path):\n",
    "    # Load the image\n",
    "    image = cv2.imread(image_path)\n",
    "\n",
    "    # Convert the image to grayscale\n",
    "    gray = cv2.cvtColor(image, cv2.COLOR_BGR2GRAY)\n",
    "\n",
    "    # Load the pre-trained Haar Cascade classifier for license plates\n",
    "    # Make sure to provide the correct path to the haarcascade_russian_plate_number.xml file\n",
    "    plate_cascade = cv2.CascadeClassifier('./models/haarcascade_plate_number.xml')\n",
    "\n",
    "    # Detect license plates in the image\n",
    "    plates = plate_cascade.detectMultiScale(gray, scaleFactor=1.1, minNeighbors=5, minSize=(30, 30))\n",
    "\n",
    "    # Draw rectangles around detected license plates\n",
    "    for (x, y, w, h) in plates:\n",
    "        cv2.rectangle(image, (x, y), (x+w, y+h), (255, 0, 0), 2)\n",
    "\n",
    "    # Display the result\n",
    "    cv2.imshow('License Plate Detection', image)\n",
    "    cv2.waitKey(0)\n",
    "    cv2.destroyAllWindows()"
   ]
  },
  {
   "cell_type": "code",
   "execution_count": 16,
   "id": "e35de007",
   "metadata": {},
   "outputs": [],
   "source": [
    "# Call the function with the path to your image\n",
    "detect_license_plate('test_images/etios.jpg')"
   ]
  },
  {
   "cell_type": "markdown",
   "id": "150d9ead",
   "metadata": {},
   "source": [
    "### Live Capture Object Detection"
   ]
  },
  {
   "cell_type": "code",
   "execution_count": 17,
   "id": "624812c6",
   "metadata": {},
   "outputs": [],
   "source": [
    "# Live Camera\n",
    "def detect_license_plate_live():\n",
    "     #Load the pre-trained Haar Cascade classifier for license plates\n",
    "    # Make sure to provide the correct path to the haarcascade_russian_plate_number.xml file\n",
    "    plate_cascade = cv2.CascadeClassifier('models/haarcascade_russian_plate_number.xml')\n",
    "    # Open a connection to the webcam\n",
    "    cap = cv2.VideoCapture()\n",
    "\n",
    "    while True:\n",
    "        # Capture frame-by-frame\n",
    "        ret, frame = cap.read()\n",
    "\n",
    "        # Convert the frame to grayscale\n",
    "        gray = cv2.cvtColor(frame, cv2.COLOR_BGR2GRAY)\n",
    "\n",
    "        # Detect license plates in the frame\n",
    "        plates = plate_cascade.detectMultiScale(gray, scaleFactor=1.1, minNeighbors=5, minSize=(30, 30))\n",
    "\n",
    "        # Draw rectangles around detected license plates\n",
    "        for (x, y, w, h) in plates:\n",
    "            cv2.rectangle(frame, (x, y), (x+w, y+h), (255, 0, 0), 2)\n",
    "\n",
    "        # Display the resulting frame\n",
    "        cv2.imshow('License Plate Detection', frame)\n",
    "\n",
    "        # Break the loop if 'q' is pressed\n",
    "        if cv2.waitKey(1) & 0xFF == ord('q'):\n",
    "            break\n",
    "\n",
    "    # Release the capture\n",
    "    cap.release()\n",
    "    cv2.destroyAllWindows()"
   ]
  },
  {
   "cell_type": "code",
   "execution_count": null,
   "id": "f4c8776e",
   "metadata": {},
   "outputs": [],
   "source": [
    "detect_license_plate_live()"
   ]
  }
 ],
 "metadata": {
  "kernelspec": {
   "display_name": "ml",
   "language": "python",
   "name": "ml"
  },
  "language_info": {
   "codemirror_mode": {
    "name": "ipython",
    "version": 3
   },
   "file_extension": ".py",
   "mimetype": "text/x-python",
   "name": "python",
   "nbconvert_exporter": "python",
   "pygments_lexer": "ipython3",
   "version": "3.9.13"
  }
 },
 "nbformat": 4,
 "nbformat_minor": 5
}
